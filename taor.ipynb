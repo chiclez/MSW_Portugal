{
 "cells": [
  {
   "cell_type": "markdown",
   "metadata": {
    "cell_id": "00000-31c179b2-6190-4870-92d4-4fcc73b377e4",
    "deepnote_cell_type": "markdown"
   },
   "source": [
    "# TAOR project: Managing solid waste in Central Portugal\n",
    "\n",
    "## Setup\n",
    "\n",
    "In the cell below we will load the core libraries we will be using."
   ]
  },
  {
   "cell_type": "code",
   "execution_count": 1,
   "metadata": {
    "cell_id": "00002-63d053e6-e126-466a-893f-aa80e441791e",
    "deepnote_cell_type": "code",
    "output_cleared": true
   },
   "outputs": [],
   "source": [
    "# Display plots inline\n",
    "%matplotlib inline\n",
    "\n",
    "# Data libraries\n",
    "import pandas as pd\n",
    "import numpy as np\n",
    "\n",
    "# Plotting libraries\n",
    "import matplotlib.pyplot as plt\n",
    "import seaborn as sns\n",
    "import folium\n",
    "\n",
    "# Plotting defaults\n",
    "plt.rcParams['figure.figsize'] = (8,5)\n",
    "plt.rcParams['figure.dpi'] = 80\n",
    "\n",
    "# Pyomo\n",
    "from pyomo.environ import *\n",
    "\n",
    "# Misc libraries\n",
    "import os\n",
    "\n",
    "# Scripting library\n",
    "import get_basura as gb"
   ]
  },
  {
   "source": [
    "# Optimization models\n",
    "\n",
    "The models are instantiated as Pyomo objects and are solved using the NEOS server. \n",
    "\n",
    "## Linear programming model\n",
    "\n",
    "This model is solved using either CPLEX or MOSEK model"
   ],
   "cell_type": "markdown",
   "metadata": {}
  },
  {
   "cell_type": "code",
   "execution_count": 2,
   "metadata": {},
   "outputs": [
    {
     "output_type": "stream",
     "name": "stdout",
     "text": [
      "# ==========================================================\n# = Solver Results                                         =\n# ==========================================================\n# ----------------------------------------------------------\n#   Problem Information\n# ----------------------------------------------------------\nProblem: \n- Lower bound: -inf\n  Upper bound: inf\n  Number of objectives: 1\n  Number of constraints: 4076\n  Number of variables: 3960\n  Sense: unknown\n# ----------------------------------------------------------\n#   Solver Information\n# ----------------------------------------------------------\nSolver: \n- Status: ok\n  Message: CPLEX 20.1.0.0\\x3a optimal integer solution; objective 1327415.8206406198; 448 MIP simplex iterations; 0 branch-and-bound nodes; absmipgap = 2.32831e-10, relmipgap = 1.75401e-16\n  Termination condition: optimal\n  Id: 2\n# ----------------------------------------------------------\n#   Solution Information\n# ----------------------------------------------------------\nSolution: \n- number of solutions: 0\n  number of solutions displayed: 0\n"
     ]
    }
   ],
   "source": [
    "# Max distances\n",
    "demax = 25\n",
    "dlmax = 125\n",
    "\n",
    "# Bring the data as dictionaries\n",
    "q_j, dist_jk_dist_jl, dist_kl, w_jk0, f_jk_f_jl, g_kl = gb.get_data(demax, dlmax)\n",
    "\n",
    "# Parameters\n",
    "c_c = 0.045\n",
    "c_u = 0.128571\n",
    "\n",
    "q = sum(q_j.values())\n",
    "\n",
    "# s_k = 204400 # original value from Dr Antunes\n",
    "s_k = 182500 # 500 ton/day capacity\n",
    "\n",
    "m = 1E6\n",
    "\n",
    "# Step 0: Instantiate a model object\n",
    "model = ConcreteModel()\n",
    "model.dual = Suffix(direction=Suffix.IMPORT)\n",
    "\n",
    "# Step 1: Define index sets\n",
    "J = list(q_j.keys())\n",
    "K = list(q_j.keys())\n",
    "L = list(q_j.keys())\n",
    "J1 = [\"Arouca\", \"Estarreja\", \"Oliveira de Azemeis\", \"Sao Joao da Madeira\", \"Sever do Vouga\", \"Gois\", \"Lousa\", \"Pampilhosa da Serra\", \"Penela\", \"Vila Nova Poiares\", \"Ansiao\", \"Castanheira de Pera\", \"Pedrogao Grande\"]\n",
    "K1 = [\"Estarreja\", \"Oliveira de Azemeis\", \"Sever do Vouga\", \"Gois\", \"Pampilhosa da Serra\", \"Ansiao\"]\n",
    "\n",
    "# Step 2: Define the decision variables\n",
    "model.w_jk = Var(J, K, within= Binary)\n",
    "model.v_jl = Var(J, L, within=Binary)\n",
    "model.y_k = Var(K, within=Binary)\n",
    "model.z_l = Var(L, within=Binary)\n",
    "model.x_kl = Var(K,L, domain = NonNegativeReals)\n",
    "\n",
    "# Step 3: Objective function\n",
    "def obj_rule(model):\n",
    "    return sum( c_u * dist_jk_dist_jl[j,k] * q_j[j] * model.w_jk[j,k] for j in J for k in K)+\\\n",
    "        sum( c_u * dist_jk_dist_jl[j,l] * q_j[j] * model.v_jl[j,l] for j in J for l in L)+\\\n",
    "        sum( c_c * dist_kl[k,l] * model.x_kl[k,l] for k in K for l in L) #+ sum( m*model.y_k[k] for k in K)\n",
    "\n",
    "model.Cost = Objective(rule=obj_rule, sense = minimize)\n",
    "\n",
    "# Step 4: Constraints              \n",
    "def rule_1(model,J):\n",
    "    return sum( model.w_jk[J,k] for k in K ) + \\\n",
    "           sum( model.v_jl[J,l] for l in L ) == 1 \n",
    "    \n",
    "def rule_2(model,K):\n",
    "    return sum( q_j[j]*model.w_jk[j, K] for j in J ) == sum( model.x_kl[K,l] for l in L )  \n",
    "    \n",
    "def rule_3(model,J,K):\n",
    "    return model.w_jk[J,K] <= f_jk_f_jl[J,K]*model.y_k[K]\n",
    "\n",
    "def rule_4(model,J,L):\n",
    "    return model.v_jl[J,L] <= f_jk_f_jl[J,L]*model.z_l[L]\n",
    "   \n",
    "def rule_5(model,K,L):\n",
    "    return model.x_kl[K,L] <= g_kl[K,L]*q*model.z_l[L]\n",
    "\n",
    "def rule_6(model,K):\n",
    "    return sum(q_j[j]*model.w_jk[j,K] for j in J)<=s_k*model.y_k[K]\n",
    "\n",
    "def rule_7(model):\n",
    "    return sum(model.z_l[l] for l in L)==1\n",
    "\n",
    "def rule_8(model, J1, K1):\n",
    "    return model.w_jk[J1,K1] == w_jk0[J1, K1]\n",
    "\n",
    "def rule_9(model): #experiment, incinerator not in Agueda\n",
    "    return (model.z_l[\"Agueda\"] == 0)\n",
    "\n",
    "def rule_10(model): #experiment, incinerator not in Mealheada\n",
    "    return (model.z_l[\"Mealhada\"] == 0)\n",
    "\n",
    "def rule_11(model): #experiment, incinerator not in Anadia\n",
    "    return (model.z_l[\"Anadia\"] == 0)\n",
    "\n",
    "def rule_12(model, J1, K1):\n",
    "    return model.y_k[K1] >= w_jk0[J1, K1]\n",
    "\n",
    "def rule_13(model):\n",
    "    return sum(model.y_k[k] for k in K) <= 9\n",
    "\n",
    "def rule_14(model, J):\n",
    "    return sum(model.w_jk[J, k] for k in K) <= 9\n",
    "\n",
    "model.C_1 = Constraint( J, rule=rule_1 )\n",
    "model.C_2 = Constraint( K, rule=rule_2 )\n",
    "model.C_3 = Constraint( J, K, rule=rule_3 )\n",
    "model.C_4 = Constraint( J, L, rule=rule_4 )\n",
    "model.C_5 = Constraint( K, L, rule = rule_5)\n",
    "model.C_6 = Constraint( K, rule = rule_6 )\n",
    "model.C_7 = Constraint( rule = rule_7)\n",
    "model.C_8 = Constraint(J1, K1, rule = rule_8) \n",
    "#model.C_9 = Constraint( rule = rule_9) # experiment, incinerator not in Agueda\n",
    "#model.C_10 = Constraint( rule = rule_10) # experiment, incinerator not in Mealhada\n",
    "#model.C_11 = Constraint( rule = rule_11) # experiment, incinerator not in Anadia\n",
    "#model.c_12 = Constraint( J1, K1, rule = rule_12) # allow the municipalities to go to other ts\n",
    "model.c_13 = Constraint( rule = rule_13) # limit number of transfer stations without using the m term\n",
    "#model.c_14 = Constraint( J, rule = rule_14) # limit number of municipalities assigned to a ts\n",
    "\n",
    "# Call Mosel and solve\n",
    "#results = SolverFactory('amplxpress').solve(model)\n",
    "\n",
    "# Call the NEOS server and use CPLEX for solving\n",
    "\n",
    "# email address\n",
    "os.environ['NEOS_EMAIL'] = 's2123659@ed.ac.uk'\n",
    "\n",
    "solver_manager = SolverManagerFactory('neos')\n",
    "results = solver_manager.solve(model, opt=\"cplex\")\n",
    "\n",
    "results.write()\n"
   ]
  },
  {
   "source": [
    "### Results"
   ],
   "cell_type": "markdown",
   "metadata": {}
  },
  {
   "cell_type": "code",
   "execution_count": 3,
   "metadata": {},
   "outputs": [
    {
     "output_type": "stream",
     "name": "stdout",
     "text": [
      "\nTransfer stations\n=================\nEstarreja 1.0\nIlhavo 1.0\nOliveira de Azemeis 1.0\nSever do Vouga 1.0\nCoimbra 1.0\nGois 1.0\nMontemor-o-Velho 1.0\nPampilhosa da Serra 1.0\nAnsiao 1.0\nIncinerator is in:  Agueda 1.0\nOptimal value = €1327415.82\nTransportation costs = €-7672584.18\n"
     ]
    }
   ],
   "source": [
    "# Output detailed solution\n",
    "header = \"Transfer stations\"\n",
    "print(f\"\\n{header}\")\n",
    "print(f\"=\"*len(header))\n",
    "\n",
    "for k in K:\n",
    "    if(model.y_k[k]() == 1):\n",
    "        print(k, model.y_k[k]())\n",
    "\n",
    "for l in L:\n",
    "    if(model.z_l[l]() == 1):\n",
    "        print(\"Incinerator is in: \", l, model.z_l[l]())\n",
    "        \n",
    "if 'ok' == str(results.Solver.status):\n",
    "    t_cost = model.Cost() - m*sum(model.y_k[k]() for k in K)\n",
    "    print(f\"Optimal value = €{model.Cost():.2f}\")\n",
    "    print(f\"Transportation costs = €{t_cost:.2f}\")\n",
    "else:\n",
    "    print(\"No Valid Solution Found\")"
   ]
  },
  {
   "source": [
    "## Visualization maps\n",
    "\n",
    "Here are some auxiliary lists for displaying the maps"
   ],
   "cell_type": "markdown",
   "metadata": {}
  },
  {
   "cell_type": "code",
   "execution_count": 4,
   "metadata": {},
   "outputs": [],
   "source": [
    "# Fill lists with the optimization results \n",
    "\n",
    "# Transfer stations\n",
    "y = []\n",
    "\n",
    "for k in K:\n",
    "    if(model.y_k[k]() == 1):\n",
    "        y.append(k)\n",
    "\n",
    "#Incinerator\n",
    "z = []\n",
    "\n",
    "for l in L:\n",
    "    if(model.z_l[l]() == 1):\n",
    "        z.append(l)\n",
    "\n",
    "# Link between municipalities and transfer stations\n",
    "links_ts = []\n",
    "\n",
    "for k in K:\n",
    "    for j in J:\n",
    "        if(model.w_jk[j, k]() == 1):\n",
    "            links_ts.append((k, j))\n",
    "\n",
    "# Link between municipalities and the incinerator\n",
    "links_inc = []\n",
    "\n",
    "for l in L:\n",
    "    for j in J:\n",
    "        if(model.v_jl[j, l]() == 1):\n",
    "            links_inc.append((l, j))\n",
    "\n",
    "# Get the coordinates\n",
    "ts_new, ts_exist, inc, mun, w_jk, v_jl = gb.get_coord(y, z, links_ts, links_inc, K1)"
   ]
  },
  {
   "source": [
    "### Display the map"
   ],
   "cell_type": "markdown",
   "metadata": {}
  },
  {
   "cell_type": "code",
   "execution_count": 5,
   "metadata": {},
   "outputs": [
    {
     "output_type": "execute_result",
     "data": {
      "text/plain": [
       "<folium.folium.Map at 0x1daa8584c10>"
      ],
      "text/html": "<div style=\"width:100%;\"><div style=\"position:relative;width:100%;height:0;padding-bottom:60%;\"><span style=\"color:#565656\">Make this Notebook Trusted to load map: File -> Trust Notebook</span><iframe src=\"about:blank\" style=\"position:absolute;width:100%;height:100%;left:0;top:0;border:none !important;\" data-html=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 onload=\"this.contentDocument.open();this.contentDocument.write(atob(this.getAttribute('data-html')));this.contentDocument.close();\" allowfullscreen webkitallowfullscreen mozallowfullscreen></iframe></div></div>"
     },
     "metadata": {},
     "execution_count": 5
    }
   ],
   "source": [
    "# Create map instance and display\n",
    "\n",
    "centro_map = gb.create_map(ts_new, ts_exist, inc, mun, w_jk, v_jl)\n",
    "centro_map"
   ]
  },
  {
   "source": [
    "## Modified model"
   ],
   "cell_type": "markdown",
   "metadata": {}
  },
  {
   "cell_type": "code",
   "execution_count": 123,
   "metadata": {},
   "outputs": [],
   "source": [
    "# Bring the data as dictionaries\n",
    "muns, _, _, _, _, _ = get_data(demax, dlmax)\n",
    "\n",
    "mun_list = [i for i in muns.keys()]"
   ]
  },
  {
   "cell_type": "code",
   "execution_count": 6,
   "metadata": {},
   "outputs": [
    {
     "output_type": "stream",
     "name": "stdout",
     "text": [
      "# ==========================================================\n# = Solver Results                                         =\n# ==========================================================\n# ----------------------------------------------------------\n#   Problem Information\n# ----------------------------------------------------------\nProblem: \n- Lower bound: -inf\n  Upper bound: inf\n  Number of objectives: 1\n  Number of constraints: 4076\n  Number of variables: 3960\n  Sense: unknown\n# ----------------------------------------------------------\n#   Solver Information\n# ----------------------------------------------------------\nSolver: \n- Status: ok\n  Message: CPLEX 20.1.0.0\\x3a optimal integer solution; objective 1054622.0474321428; 462 MIP simplex iterations; 0 branch-and-bound nodes\n  Termination condition: optimal\n  Id: 2\n# ----------------------------------------------------------\n#   Solution Information\n# ----------------------------------------------------------\nSolution: \n- number of solutions: 0\n  number of solutions displayed: 0\n"
     ]
    }
   ],
   "source": [
    "# Max distances\n",
    "demax = 25\n",
    "dlmax = 125\n",
    "\n",
    "# Bring the data as dictionaries\n",
    "q_j, dist_jk_dist_jl, dist_kl, w_jk0, f_jk_f_jl, g_kl = gb.get_new_data(demax, dlmax, year = \"2015\")\n",
    "\n",
    "# Parameters\n",
    "c_c = 0.045\n",
    "c_u = 0.128571\n",
    "\n",
    "q = sum(q_j.values())\n",
    "\n",
    "# s_k = 204400 # original value from Dr Antunes\n",
    "s_k = 182500 # 500 ton/day capacity\n",
    "\n",
    "m = 1E6\n",
    "\n",
    "# Step 0: Instantiate a model object\n",
    "model_rob = ConcreteModel()\n",
    "model_rob.dual = Suffix(direction=Suffix.IMPORT)\n",
    "\n",
    "# Step 1: Define index sets\n",
    "J = list(q_j.keys())\n",
    "K = list(q_j.keys())\n",
    "L = list(q_j.keys())\n",
    "J1 = [\"Arouca\", \"Estarreja\", \"Oliveira de Azemeis\", \"Sao Joao da Madeira\", \"Sever do Vouga\", \"Gois\", \"Lousa\", \"Pampilhosa da Serra\", \"Penela\", \"Vila Nova Poiares\", \"Ansiao\", \"Castanheira de Pera\", \"Pedrogao Grande\"]\n",
    "K1 = [\"Estarreja\", \"Oliveira de Azemeis\", \"Sever do Vouga\", \"Gois\", \"Pampilhosa da Serra\", \"Ansiao\"]\n",
    "\n",
    "# Step 2: Define the decision variables\n",
    "model_rob.w_jk = Var(J, K, within= Binary)\n",
    "model_rob.v_jl = Var(J, L, within=Binary)\n",
    "model_rob.y_k = Var(K, within=Binary)\n",
    "model_rob.z_l = Var(L, within=Binary)\n",
    "model_rob.x_kl = Var(K,L, domain = NonNegativeReals)\n",
    "\n",
    "# Step 3: Objective function\n",
    "def obj_rule(model_rob):\n",
    "    return sum( c_u * dist_jk_dist_jl[j,k] * q_j[j] * model_rob.w_jk[j,k] for j in J for k in K)+\\\n",
    "        sum( c_u * dist_jk_dist_jl[j,l] * q_j[j] * model_rob.v_jl[j,l] for j in J for l in L)+\\\n",
    "        sum( c_c * dist_kl[k,l] * model_rob.x_kl[k,l] for k in K for l in L) #+ sum( m*model.y_k[k] for k in K)\n",
    "\n",
    "model_rob.Cost = Objective(rule=obj_rule, sense = minimize)\n",
    "\n",
    "# Step 4: Constraints              \n",
    "def rule_1(model_rob,J):\n",
    "    return sum( model_rob.w_jk[J,k] for k in K ) + \\\n",
    "           sum( model_rob.v_jl[J,l] for l in L ) == 1 \n",
    "    \n",
    "def rule_2(model_rob,K):\n",
    "    return sum( q_j[j]*model_rob.w_jk[j, K] for j in J ) == sum( model_rob.x_kl[K,l] for l in L )  \n",
    "    \n",
    "def rule_3(model_rob,J,K):\n",
    "    return model_rob.w_jk[J,K] <= f_jk_f_jl[J,K]*model_rob.y_k[K]\n",
    "\n",
    "def rule_4(model_rob,J,L):\n",
    "    return model_rob.v_jl[J,L] <= f_jk_f_jl[J,L]*model_rob.z_l[L]\n",
    "   \n",
    "def rule_5(model_rob,K,L):\n",
    "    return model_rob.x_kl[K,L] <= g_kl[K,L]*q*model_rob.z_l[L]\n",
    "\n",
    "def rule_6(model_rob,K):\n",
    "    return sum(q_j[j]*model_rob.w_jk[j,K] for j in J)<=s_k*model_rob.y_k[K]\n",
    "\n",
    "def rule_7(model_rob):\n",
    "    return sum(model_rob.z_l[l] for l in L)==1\n",
    "\n",
    "def rule_8(model_rob, J1, K1):\n",
    "    return model_rob.w_jk[J1,K1] == w_jk0[J1, K1]\n",
    "\n",
    "def rule_9(model_rob): #experiment, incinerator not in Agueda\n",
    "    return (model.z_l[\"Agueda\"] == 0)\n",
    "\n",
    "def rule_10(model_rob): #experiment, incinerator not in Mealheada\n",
    "    return (model_rob.z_l[\"Mealhada\"] == 0)\n",
    "\n",
    "def rule_11(model_rob): #experiment, incinerator not in Anadia\n",
    "    return (model_rob.z_l[\"Anadia\"] == 0)\n",
    "\n",
    "def rule_12(model_rob, J1, K1):\n",
    "    return model_rob.y_k[K1] >= w_jk0[J1, K1]\n",
    "\n",
    "def rule_13(model_rob):\n",
    "    return sum(model_rob.y_k[k] for k in K) <= 9\n",
    "\n",
    "def rule_14(model_rob, J):\n",
    "    return sum(model_rob.w_jk[J, k] for k in K) <= 9\n",
    "\n",
    "model_rob.C_1 = Constraint( J, rule=rule_1 )\n",
    "model_rob.C_2 = Constraint( K, rule=rule_2 )\n",
    "model_rob.C_3 = Constraint( J, K, rule=rule_3 )\n",
    "model_rob.C_4 = Constraint( J, L, rule=rule_4 )\n",
    "model_rob.C_5 = Constraint( K, L, rule = rule_5)\n",
    "model_rob.C_6 = Constraint( K, rule = rule_6 )\n",
    "model_rob.C_7 = Constraint( rule = rule_7)\n",
    "model_rob.C_8 = Constraint(J1, K1, rule = rule_8) \n",
    "#model_rob.C_9 = Constraint( rule = rule_9) # experiment, incinerator not in Agueda\n",
    "#model_rob.C_10 = Constraint( rule = rule_10) # experiment, incinerator not in Mealhada\n",
    "#model_rob.C_11 = Constraint( rule = rule_11) # experiment, incinerator not in Anadia\n",
    "#model_rob.c_12 = Constraint( J1, K1, rule = rule_12) # allow the municipalities to go to other ts\n",
    "model_rob.c_13 = Constraint( rule = rule_13) # limit number of transfer stations without using the m term\n",
    "#model_rob.c_14 = Constraint( J, rule = rule_14) # limit number of municipalities assigned to a ts\n",
    "\n",
    "# Call Mosel and solve\n",
    "#results = SolverFactory('amplxpress').solve(model_rob)\n",
    "\n",
    "# Call the NEOS server and use MOSEK for solving\n",
    "\n",
    "# email address\n",
    "os.environ['NEOS_EMAIL'] = 's2123659@ed.ac.uk'\n",
    "\n",
    "solver_manager = SolverManagerFactory('neos')\n",
    "results_rob = solver_manager.solve(model_rob, opt=\"cplex\")\n",
    "\n",
    "results_rob.write()\n"
   ]
  },
  {
   "cell_type": "code",
   "execution_count": 7,
   "metadata": {},
   "outputs": [
    {
     "output_type": "stream",
     "name": "stdout",
     "text": [
      "\nTransfer stations\n=================\nEstarreja 1.0\nIlhavo 1.0\nOliveira de Azemeis 1.0\nSever do Vouga 1.0\nCoimbra 1.0\nGois 1.0\nMontemor-o-Velho 1.0\nPampilhosa da Serra 1.0\nAnsiao 1.0\nIncinerator is in:  Mealhada 1.0\nOptimal value = €1054622.05\nTransportation costs = €-7945377.95\n"
     ]
    }
   ],
   "source": [
    "# Output detailed solution\n",
    "header = \"Transfer stations\"\n",
    "print(f\"\\n{header}\")\n",
    "print(f\"=\"*len(header))\n",
    "\n",
    "for k in K:\n",
    "    if(model_rob.y_k[k]() == 1):\n",
    "        print(k, model_rob.y_k[k]())\n",
    "\n",
    "for l in L:\n",
    "    if(model_rob.z_l[l]() == 1):\n",
    "        print(\"Incinerator is in: \", l, model_rob.z_l[l]())\n",
    "        \n",
    "if 'ok' == str(results_rob.Solver.status):\n",
    "    t_cost = model_rob.Cost() - m*sum(model_rob.y_k[k]() for k in K)\n",
    "    print(f\"Optimal value = €{model_rob.Cost():.2f}\")\n",
    "    print(f\"Transportation costs = €{t_cost:.2f}\")\n",
    "else:\n",
    "    print(\"No Valid Solution Found\")"
   ]
  },
  {
   "source": [
    "### Visualization map"
   ],
   "cell_type": "markdown",
   "metadata": {}
  },
  {
   "cell_type": "code",
   "execution_count": 10,
   "metadata": {},
   "outputs": [],
   "source": [
    "# Fill lists with the optimization results \n",
    "\n",
    "# Transfer stations\n",
    "y = []\n",
    "\n",
    "for k in K:\n",
    "    if(model_rob.y_k[k]() == 1):\n",
    "        y.append(k)\n",
    "\n",
    "#Incinerator\n",
    "z = []\n",
    "\n",
    "for l in L:\n",
    "    if(model_rob.z_l[l]() == 1):\n",
    "        z.append(l)\n",
    "\n",
    "# Link between municipalities and transfer stations\n",
    "links_ts = []\n",
    "\n",
    "for k in K:\n",
    "    for j in J:\n",
    "        if(model_rob.w_jk[j, k]() == 1):\n",
    "            links_ts.append((k, j))\n",
    "\n",
    "# Link between municipalities and the incinerator\n",
    "links_inc = []\n",
    "\n",
    "for l in L:\n",
    "    for j in J:\n",
    "        if(model_rob.v_jl[j, l]() == 1):\n",
    "            links_inc.append((l, j))\n",
    "\n",
    "# Get the coordinates\n",
    "ts_new, ts_exist, inc, mun, w_jk, v_jl = gb.get_coord(y, z, links_ts, links_inc, K1)"
   ]
  },
  {
   "source": [
    "### Display the map\n"
   ],
   "cell_type": "markdown",
   "metadata": {}
  },
  {
   "cell_type": "code",
   "execution_count": 13,
   "metadata": {},
   "outputs": [
    {
     "output_type": "execute_result",
     "data": {
      "text/plain": [
       "<folium.folium.Map at 0x1dab0be0160>"
      ],
      "text/html": "<div style=\"width:100%;\"><div style=\"position:relative;width:100%;height:0;padding-bottom:60%;\"><span style=\"color:#565656\">Make this Notebook Trusted to load map: File -> Trust Notebook</span><iframe src=\"about:blank\" style=\"position:absolute;width:100%;height:100%;left:0;top:0;border:none !important;\" data-html=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 onload=\"this.contentDocument.open();this.contentDocument.write(atob(this.getAttribute('data-html')));this.contentDocument.close();\" allowfullscreen webkitallowfullscreen mozallowfullscreen></iframe></div></div>"
     },
     "metadata": {},
     "execution_count": 13
    }
   ],
   "source": [
    "# Create map instance and display\n",
    "\n",
    "new_map = gb.create_map(ts_new, ts_exist, inc, mun, w_jk, v_jl)\n",
    "new_map"
   ]
  }
 ],
 "metadata": {
  "deepnote": {},
  "deepnote_execution_queue": [],
  "deepnote_notebook_id": "2f82e0eb-13b2-4937-8c61-4d17582dd74b",
  "kernelspec": {
   "display_name": "Python 3",
   "language": "python",
   "name": "python3"
  },
  "language_info": {
   "codemirror_mode": {
    "name": "ipython",
    "version": 3
   },
   "file_extension": ".py",
   "mimetype": "text/x-python",
   "name": "python",
   "nbconvert_exporter": "python",
   "pygments_lexer": "ipython3",
   "version": "3.8.3-final"
  }
 },
 "nbformat": 4,
 "nbformat_minor": 4
}