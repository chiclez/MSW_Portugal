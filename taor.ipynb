{
 "cells": [
  {
   "cell_type": "markdown",
   "metadata": {
    "cell_id": "00000-31c179b2-6190-4870-92d4-4fcc73b377e4",
    "deepnote_cell_type": "markdown"
   },
   "source": [
    "# TAOR project"
   ]
  },
  {
   "cell_type": "markdown",
   "metadata": {
    "cell_id": "00001-171fa9ca-f8ad-4d3a-b258-66088209d191",
    "deepnote_cell_type": "markdown"
   },
   "source": [
    "## Setup\n",
    "\n",
    "In the cell below we will load the core libraries we will be using."
   ]
  },
  {
   "cell_type": "code",
   "execution_count": 1,
   "metadata": {
    "cell_id": "00002-63d053e6-e126-466a-893f-aa80e441791e",
    "deepnote_cell_type": "code",
    "output_cleared": true
   },
   "outputs": [],
   "source": [
    "# Display plots inline\n",
    "%matplotlib inline\n",
    "\n",
    "# Data libraries\n",
    "import pandas as pd\n",
    "import numpy as np\n",
    "\n",
    "# Plotting libraries\n",
    "import matplotlib.pyplot as plt\n",
    "import seaborn as sns\n",
    "import folium\n",
    "\n",
    "# Plotting defaults\n",
    "plt.rcParams['figure.figsize'] = (8,5)\n",
    "plt.rcParams['figure.dpi'] = 80\n",
    "\n",
    "# Pyomo\n",
    "from pyomo.environ import *\n",
    "\n",
    "# Misc libraries\n",
    "import os\n",
    "\n",
    "# Scripting library\n",
    "import get_basura as gb"
   ]
  },
  {
   "source": [
    "# Optimization models\n",
    "\n",
    "The models are instantiated as Pyomo objects and are solved using the NEOS server. \n",
    "\n",
    "## Linear programming model\n",
    "\n",
    "This model is solved using either CPLEX or MOSEK model"
   ],
   "cell_type": "markdown",
   "metadata": {}
  },
  {
   "cell_type": "code",
   "execution_count": 2,
   "metadata": {},
   "outputs": [
    {
     "output_type": "stream",
     "name": "stdout",
     "text": [
      "# ==========================================================\n# = Solver Results                                         =\n# ==========================================================\n# ----------------------------------------------------------\n#   Problem Information\n# ----------------------------------------------------------\nProblem: \n- Lower bound: -inf\n  Upper bound: inf\n  Number of objectives: 1\n  Number of constraints: 4076\n  Number of variables: 3960\n  Sense: unknown\n# ----------------------------------------------------------\n#   Solver Information\n# ----------------------------------------------------------\nSolver: \n- Status: ok\n  Message: CPLEX 20.1.0.0\\x3a optimal integer solution; objective 1327415.8206406198; 465 MIP simplex iterations; 0 branch-and-bound nodes; absmipgap = 2.32831e-10, relmipgap = 1.75401e-16\n  Termination condition: optimal\n  Id: 2\n# ----------------------------------------------------------\n#   Solution Information\n# ----------------------------------------------------------\nSolution: \n- number of solutions: 0\n  number of solutions displayed: 0\n"
     ]
    }
   ],
   "source": [
    "# Max distances\n",
    "demax = 25\n",
    "dlmax = 125\n",
    "\n",
    "# Bring the data as dictionaries\n",
    "q_j, dist_jk_dist_jl, dist_kl, w_jk0, f_jk_f_jl, g_kl = gb.get_data(demax, dlmax)\n",
    "\n",
    "# Parameters\n",
    "c_c = 0.045\n",
    "c_u = 0.128571\n",
    "\n",
    "q = sum(q_j.values())\n",
    "\n",
    "# s_k = 204400 # original value from Dr Antunes\n",
    "s_k = 182500 # 500 ton/day capacity\n",
    "\n",
    "m = 1E6\n",
    "\n",
    "# Step 0: Instantiate a model object\n",
    "model = ConcreteModel()\n",
    "model.dual = Suffix(direction=Suffix.IMPORT)\n",
    "\n",
    "# Step 1: Define index sets\n",
    "J = list(q_j.keys())\n",
    "K = list(q_j.keys())\n",
    "L = list(q_j.keys())\n",
    "J1 = [\"Arouca\", \"Estarreja\", \"Oliveira de Azemeis\", \"Sao Joao da Madeira\", \"Sever do Vouga\", \"Gois\", \"Lousa\", \"Pampilhosa da Serra\", \"Penela\", \"Vila Nova Poiares\", \"Ansiao\", \"Castanheira de Pera\", \"Pedrogao Grande\"]\n",
    "K1 = [\"Estarreja\", \"Oliveira de Azemeis\", \"Sever do Vouga\", \"Gois\", \"Pampilhosa da Serra\", \"Ansiao\"]\n",
    "\n",
    "# Step 2: Define the decision variables\n",
    "model.w_jk = Var(J, K, within= Binary)\n",
    "model.v_jl = Var(J, L, within=Binary)\n",
    "model.y_k = Var(K, within=Binary)\n",
    "model.z_l = Var(L, within=Binary)\n",
    "model.x_kl = Var(K,L, domain = NonNegativeReals)\n",
    "\n",
    "# Step 3: Objective function\n",
    "def obj_rule(model):\n",
    "    return sum( c_u * dist_jk_dist_jl[j,k] * q_j[j] * model.w_jk[j,k] for j in J for k in K)+\\\n",
    "        sum( c_u * dist_jk_dist_jl[j,l] * q_j[j] * model.v_jl[j,l] for j in J for l in L)+\\\n",
    "        sum( c_c * dist_kl[k,l] * model.x_kl[k,l] for k in K for l in L) #+ sum( m*model.y_k[k] for k in K)\n",
    "\n",
    "model.Cost = Objective(rule=obj_rule, sense = minimize)\n",
    "\n",
    "# Step 4: Constraints              \n",
    "def rule_1(model,J):\n",
    "    return sum( model.w_jk[J,k] for k in K ) + \\\n",
    "           sum( model.v_jl[J,l] for l in L ) == 1 \n",
    "    \n",
    "def rule_2(model,K):\n",
    "    return sum( q_j[j]*model.w_jk[j, K] for j in J ) == sum( model.x_kl[K,l] for l in L )  \n",
    "    \n",
    "def rule_3(model,J,K):\n",
    "    return model.w_jk[J,K] <= f_jk_f_jl[J,K]*model.y_k[K]\n",
    "\n",
    "def rule_4(model,J,L):\n",
    "    return model.v_jl[J,L] <= f_jk_f_jl[J,L]*model.z_l[L]\n",
    "   \n",
    "def rule_5(model,K,L):\n",
    "    return model.x_kl[K,L] <= g_kl[K,L]*q*model.z_l[L]\n",
    "\n",
    "def rule_6(model,K):\n",
    "    return sum(q_j[j]*model.w_jk[j,K] for j in J)<=s_k*model.y_k[K]\n",
    "\n",
    "def rule_7(model):\n",
    "    return sum(model.z_l[l] for l in L)==1\n",
    "\n",
    "def rule_8(model, J1, K1):\n",
    "    return model.w_jk[J1,K1] == w_jk0[J1, K1]\n",
    "\n",
    "def rule_9(model): #experiment, incinerator not in Agueda\n",
    "    return (model.z_l[\"Agueda\"] == 0)\n",
    "\n",
    "def rule_10(model): #experiment, incinerator not in Mealheada\n",
    "    return (model.z_l[\"Mealhada\"] == 0)\n",
    "\n",
    "def rule_11(model): #experiment, incinerator not in Anadia\n",
    "    return (model.z_l[\"Anadia\"] == 0)\n",
    "\n",
    "def rule_12(model, J1, K1):\n",
    "    return model.y_k[K1] >= w_jk0[J1, K1]\n",
    "\n",
    "def rule_13(model):\n",
    "    return sum(model.y_k[k] for k in K) <= 9\n",
    "\n",
    "def rule_14(model, J):\n",
    "    return sum(model.w_jk[J, k] for k in K) <= 9\n",
    "\n",
    "model.C_1 = Constraint( J, rule=rule_1 )\n",
    "model.C_2 = Constraint( K, rule=rule_2 )\n",
    "model.C_3 = Constraint( J, K, rule=rule_3 )\n",
    "model.C_4 = Constraint( J, L, rule=rule_4 )\n",
    "model.C_5 = Constraint( K, L, rule = rule_5)\n",
    "model.C_6 = Constraint( K, rule = rule_6 )\n",
    "model.C_7 = Constraint( rule = rule_7)\n",
    "model.C_8 = Constraint(J1, K1, rule = rule_8) \n",
    "#model.C_9 = Constraint( rule = rule_9) # experiment, incinerator not in Agueda\n",
    "#model.C_10 = Constraint( rule = rule_10) # experiment, incinerator not in Mealhada\n",
    "#model.C_11 = Constraint( rule = rule_11) # experiment, incinerator not in Anadia\n",
    "#model.c_12 = Constraint( J1, K1, rule = rule_12) # allow the municipalities to go to other ts\n",
    "model.c_13 = Constraint( rule = rule_13) # limit number of transfer stations without using the m term\n",
    "#model.c_14 = Constraint( J, rule = rule_14) # limit number of municipalities assigned to a ts\n",
    "\n",
    "# Call Mosel and solve\n",
    "#results = SolverFactory('amplxpress').solve(model)\n",
    "\n",
    "# Call the NEOS server and use CPLEX for solving\n",
    "\n",
    "# email address\n",
    "os.environ['NEOS_EMAIL'] = 's2123659@ed.ac.uk'\n",
    "\n",
    "solver_manager = SolverManagerFactory('neos')\n",
    "results = solver_manager.solve(model, opt=\"cplex\")\n",
    "\n",
    "results.write()\n"
   ]
  },
  {
   "source": [
    "### Results"
   ],
   "cell_type": "markdown",
   "metadata": {}
  },
  {
   "cell_type": "code",
   "execution_count": 3,
   "metadata": {},
   "outputs": [
    {
     "output_type": "stream",
     "name": "stdout",
     "text": [
      "\nTransfer stations\n=================\nEstarreja 1.0\nIlhavo 1.0\nOliveira de Azemeis 1.0\nSever do Vouga 1.0\nCoimbra 1.0\nGois 1.0\nMontemor-o-Velho 1.0\nPampilhosa da Serra 1.0\nAnsiao 1.0\nIncinerator is in:  Agueda 1.0\nOptimal value = €1327415.82\nTransportation costs = €-7672584.18\n"
     ]
    }
   ],
   "source": [
    "# Output detailed solution\n",
    "header = \"Transfer stations\"\n",
    "print(f\"\\n{header}\")\n",
    "print(f\"=\"*len(header))\n",
    "\n",
    "for k in K:\n",
    "    if(model.y_k[k]() == 1):\n",
    "        print(k, model.y_k[k]())\n",
    "\n",
    "for l in L:\n",
    "    if(model.z_l[l]() == 1):\n",
    "        print(\"Incinerator is in: \", l, model.z_l[l]())\n",
    "        \n",
    "if 'ok' == str(results.Solver.status):\n",
    "    t_cost = model.Cost() - m*sum(model.y_k[k]() for k in K)\n",
    "    print(f\"Optimal value = €{model.Cost():.2f}\")\n",
    "    print(f\"Transportation costs = €{t_cost:.2f}\")\n",
    "else:\n",
    "    print(\"No Valid Solution Found\")"
   ]
  },
  {
   "source": [
    "## Visualization maps\n",
    "\n",
    "Here are some auxiliary lists for displaying the maps"
   ],
   "cell_type": "markdown",
   "metadata": {}
  },
  {
   "cell_type": "code",
   "execution_count": 4,
   "metadata": {},
   "outputs": [],
   "source": [
    "# Fill lists with the optimization results \n",
    "\n",
    "# Transfer stations\n",
    "y = []\n",
    "\n",
    "for k in K:\n",
    "    if(model.y_k[k]() == 1):\n",
    "        y.append(k)\n",
    "\n",
    "#Incinerator\n",
    "z = []\n",
    "\n",
    "for l in L:\n",
    "    if(model.z_l[l]() == 1):\n",
    "        z.append(l)\n",
    "\n",
    "# Link between municipalities and transfer stations\n",
    "links_ts = []\n",
    "\n",
    "for k in K:\n",
    "    for j in J:\n",
    "        if(model.w_jk[j, k]() == 1):\n",
    "            links_ts.append((k, j))\n",
    "\n",
    "# Link between municipalities and the incinerator\n",
    "links_inc = []\n",
    "\n",
    "for l in L:\n",
    "    for j in J:\n",
    "        if(model.v_jl[j, l]() == 1):\n",
    "            links_inc.append((l, j))\n",
    "\n",
    "# Get the coordinates\n",
    "ts_new, ts_exist, inc, mun, w_jk, v_jl = gb.get_coord(y, z, links_ts, links_inc, K1)"
   ]
  },
  {
   "source": [
    "### Display the map"
   ],
   "cell_type": "markdown",
   "metadata": {}
  },
  {
   "cell_type": "code",
   "execution_count": 5,
   "metadata": {},
   "outputs": [
    {
     "output_type": "execute_result",
     "data": {
      "text/plain": [
       "<folium.folium.Map at 0x225c46feac0>"
      ],
      "text/html": "<div style=\"width:100%;\"><div style=\"position:relative;width:100%;height:0;padding-bottom:60%;\"><span style=\"color:#565656\">Make this Notebook Trusted to load map: File -> Trust Notebook</span><iframe src=\"about:blank\" style=\"position:absolute;width:100%;height:100%;left:0;top:0;border:none !important;\" data-html=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 onload=\"this.contentDocument.open();this.contentDocument.write(atob(this.getAttribute('data-html')));this.contentDocument.close();\" allowfullscreen webkitallowfullscreen mozallowfullscreen></iframe></div></div>"
     },
     "metadata": {},
     "execution_count": 5
    }
   ],
   "source": [
    "# Create map instance and display\n",
    "\n",
    "centro_map = gb.create_map(ts_new, ts_exist, inc, mun, w_jk, v_jl)\n",
    "centro_map"
   ]
  },
  {
   "source": [
    "# Modified model (Robust optimization)"
   ],
   "cell_type": "markdown",
   "metadata": {}
  },
  {
   "cell_type": "code",
   "execution_count": 126,
   "metadata": {},
   "outputs": [],
   "source": [
    "def get_new_data(demax, dlmax, year):\n",
    "\n",
    "    currDir = os.getcwd()\n",
    "    dataAntunes = os.path.join(currDir, 'data_antunes.xls')\n",
    "    new_data = os.path.join(currDir, \"data_antunes_new.xls\")\n",
    "\n",
    "    antunesSheet0 = pd.read_excel(dataAntunes, sheet_name=0, header = 1)\n",
    "    antunesSheet1 = pd.read_excel(dataAntunes, sheet_name=1, header = 2)\n",
    "    antunesSheet2 = pd.read_excel(dataAntunes, sheet_name=2, header = 2)\n",
    "    antunesSheet4 = pd.read_excel(dataAntunes, sheet_name=4, header = None)\n",
    "\n",
    "    municipalities = antunesSheet0.copy()\n",
    "    municipalities = municipalities.drop(columns = [\"ORD_COD\", \"Q (ton/dia)\", \"Q (ton/ano)\", \"Pop 2001\", \"ET exist.\", \"ET assign.\"])\n",
    "    \n",
    "    # New data\n",
    "    waste_df = pd.read_excel(new_data, sheet_name=0, header = 1)\n",
    "    q_j_init = waste_df.drop(columns = [\"ORD_COD\", \"Concelho\", \"Q (ton/dia)\", \"Q_2001\", \"Pop 2001\", \"Q_2015\", \"Pop_2015\", \"ET exist.\", \"ET assign.\"])\n",
    "\n",
    "    distmatrix1 = antunesSheet1.copy()\n",
    "    d_jk_d_jl_init = distmatrix1.drop(columns = [\"Unnamed: 0\"])\n",
    "    d_jk_d_jl_init.columns = list(range(0, 36))\n",
    "\n",
    "    distmatrix2 = antunesSheet2.copy()\n",
    "    d_kl_init = distmatrix2.drop(columns = [\"Unnamed: 0\"])\n",
    "\n",
    "    w_jk0_init = antunesSheet4.copy()\n",
    "\n",
    "    # Create f_jk_f_jl matrices: \n",
    "    # If the distances between municipalities and transfer stations  d_jk <= demax or w_jk =1, then 1. Else, 0.\n",
    "    f_jk_f_jl_init = d_jk_d_jl_init.copy()\n",
    "    w_jk0_init.sort_index(inplace=True) == d_jk_d_jl_init.sort_index(inplace = True)\n",
    "\n",
    "    f_jk_f_jl_init[(f_jk_f_jl_init <= demax) | (w_jk0_init == 1)] = 1\n",
    "    f_jk_f_jl_init[f_jk_f_jl_init != 1]= 0\n",
    "    f_jk_f_jl_init = f_jk_f_jl_init.astype(int)\n",
    "\n",
    "    # Take the transposed matrix instead as wjk0 an f_jk_f_jl are not symmetric \n",
    "    w_jk0_init = w_jk0_init.T\n",
    "    f_jk_f_jl_init = f_jk_f_jl_init.T\n",
    "\n",
    "    # Create g_kl matrix: \n",
    "    # If the distances between transfer stations to incinerator d_kl <= dlmax, then 1. Else, 0.\n",
    "    g_kl_init = d_kl_init.copy()\n",
    "   \n",
    "    g_kl_init = g_kl_init.where(d_kl_init > dlmax, 1)\n",
    "    g_kl_init[g_kl_init != 1] = 0\n",
    "    g_kl_init = g_kl_init.astype(int)\n",
    "\n",
    "    # Create temp dictionaries\n",
    "    q_j_init_dict = q_j_init.to_dict(orient = \"list\")\n",
    "    d_jk_d_jl_init_dict = d_jk_d_jl_init.to_dict(orient = \"list\")\n",
    "    d_kl_init_dict = d_kl_init.to_dict(orient = \"list\")\n",
    "    w_jk0_init_dict = w_jk0_init.to_dict(orient = \"list\")\n",
    "    f_jk_f_jl_init_dict = f_jk_f_jl_init.to_dict(orient = \"list\")\n",
    "    g_kl_init_dict = g_kl_init.to_dict(orient = \"list\")\n",
    "\n",
    "    # Get the base_keys for the dictionaries\n",
    "    mun_list = municipalities.squeeze().to_list()\n",
    "    base_keys = [(i, j) for i in mun_list for j in mun_list]\n",
    "\n",
    "    # Get the matrix values \n",
    "    q_j = [value for key, value in q_j_init_dict.items()]\n",
    "    q_j_list = [j for i in q_j for j in i]\n",
    "\n",
    "    d_jk_d_jl = [value for key, value in d_jk_d_jl_init_dict.items()]\n",
    "    d_jk_d_jl_list = [j for i in d_jk_d_jl for j in i]\n",
    "\n",
    "    d_kl = [value for key, value in d_kl_init_dict.items()]\n",
    "    d_kl_list = [j for i in d_kl for j in i]\n",
    "\n",
    "    w_jk0 = [value for key, value in w_jk0_init_dict.items()]\n",
    "    w_jk0_list = [j for i in w_jk0 for j in i]\n",
    "\n",
    "    f_jk_f_jl = [value for key, value in f_jk_f_jl_init_dict.items()]\n",
    "    f_jk_f_jl_list = [j for i in f_jk_f_jl for j in i]\n",
    "\n",
    "    g_kl = [value for key, value in g_kl_init_dict.items()]\n",
    "    g_kl_list = [j for i in g_kl for j in i]\n",
    "\n",
    "    # create final dictionaries\n",
    "    q_j_dict = dict(zip(mun_list, q_j_list))\n",
    "    d_jk_d_jl_dict = dict(zip(base_keys, d_jk_d_jl_list))\n",
    "    d_kl_dict = dict(zip(base_keys, d_kl_list))\n",
    "    w_jk0_dict = dict(zip(base_keys, w_jk0_list))\n",
    "    f_jk_f_jl_dict = dict(zip(base_keys, f_jk_f_jl_list))\n",
    "    g_kl_dict = dict(zip(base_keys, g_kl_list))\n",
    "\n",
    "    return q_j_dict, d_jk_d_jl_dict, d_kl_dict, w_jk0_dict, f_jk_f_jl_dict, g_kl_dict"
   ]
  },
  {
   "cell_type": "code",
   "execution_count": 123,
   "metadata": {},
   "outputs": [],
   "source": [
    "# Bring the data as dictionaries\n",
    "muns, _, _, _, _, _ = get_data(demax, dlmax)\n",
    "\n",
    "mun_list = [i for i in muns.keys()]"
   ]
  },
  {
   "cell_type": "code",
   "execution_count": 128,
   "metadata": {},
   "outputs": [
    {
     "output_type": "stream",
     "name": "stdout",
     "text": [
      "# ==========================================================\n# = Solver Results                                         =\n# ==========================================================\n# ----------------------------------------------------------\n#   Problem Information\n# ----------------------------------------------------------\nProblem: \n- Lower bound: -inf\n  Upper bound: inf\n  Number of objectives: 1\n  Number of constraints: 4076\n  Number of variables: 3960\n  Sense: unknown\n# ----------------------------------------------------------\n#   Solver Information\n# ----------------------------------------------------------\nSolver: \n- Status: ok\n  Message: CPLEX 20.1.0.0\\x3a optimal integer solution; objective 1054622.0474321428; 462 MIP simplex iterations; 0 branch-and-bound nodes\n  Termination condition: optimal\n  Id: 2\n# ----------------------------------------------------------\n#   Solution Information\n# ----------------------------------------------------------\nSolution: \n- number of solutions: 0\n  number of solutions displayed: 0\n"
     ]
    }
   ],
   "source": [
    "# Max distances\n",
    "demax = 25\n",
    "dlmax = 125\n",
    "\n",
    "# Bring the data as dictionaries\n",
    "q_j, dist_jk_dist_jl, dist_kl, w_jk0, f_jk_f_jl, g_kl = get_new_data(demax, dlmax, year = \"2015\")\n",
    "\n",
    "# Parameters\n",
    "c_c = 0.045\n",
    "c_u = 0.128571\n",
    "\n",
    "q = sum(q_j.values())\n",
    "\n",
    "# s_k = 204400 # original value from Dr Antunes\n",
    "s_k = 182500 # 500 ton/day capacity\n",
    "\n",
    "m = 1E6\n",
    "\n",
    "# Step 0: Instantiate a model object\n",
    "model_rob = ConcreteModel()\n",
    "model_rob.dual = Suffix(direction=Suffix.IMPORT)\n",
    "\n",
    "# Step 1: Define index sets\n",
    "J = list(q_j.keys())\n",
    "K = list(q_j.keys())\n",
    "L = list(q_j.keys())\n",
    "J1 = [\"Arouca\", \"Estarreja\", \"Oliveira de Azemeis\", \"Sao Joao da Madeira\", \"Sever do Vouga\", \"Gois\", \"Lousa\", \"Pampilhosa da Serra\", \"Penela\", \"Vila Nova Poiares\", \"Ansiao\", \"Castanheira de Pera\", \"Pedrogao Grande\"]\n",
    "K1 = [\"Estarreja\", \"Oliveira de Azemeis\", \"Sever do Vouga\", \"Gois\", \"Pampilhosa da Serra\", \"Ansiao\"]\n",
    "\n",
    "# Step 2: Define the decision variables\n",
    "model_rob.w_jk = Var(J, K, within= Binary)\n",
    "model_rob.v_jl = Var(J, L, within=Binary)\n",
    "model_rob.y_k = Var(K, within=Binary)\n",
    "model_rob.z_l = Var(L, within=Binary)\n",
    "model_rob.x_kl = Var(K,L, domain = NonNegativeReals)\n",
    "\n",
    "# Step 3: Objective function\n",
    "def obj_rule(model_rob):\n",
    "    return sum( c_u * dist_jk_dist_jl[j,k] * q_j[j] * model_rob.w_jk[j,k] for j in J for k in K)+\\\n",
    "        sum( c_u * dist_jk_dist_jl[j,l] * q_j[j] * model_rob.v_jl[j,l] for j in J for l in L)+\\\n",
    "        sum( c_c * dist_kl[k,l] * model_rob.x_kl[k,l] for k in K for l in L) #+ sum( m*model.y_k[k] for k in K)\n",
    "\n",
    "model_rob.Cost = Objective(rule=obj_rule, sense = minimize)\n",
    "\n",
    "# Step 4: Constraints              \n",
    "def rule_1(model_rob,J):\n",
    "    return sum( model_rob.w_jk[J,k] for k in K ) + \\\n",
    "           sum( model_rob.v_jl[J,l] for l in L ) == 1 \n",
    "    \n",
    "def rule_2(model_rob,K):\n",
    "    return sum( q_j[j]*model_rob.w_jk[j, K] for j in J ) == sum( model_rob.x_kl[K,l] for l in L )  \n",
    "    \n",
    "def rule_3(model_rob,J,K):\n",
    "    return model_rob.w_jk[J,K] <= f_jk_f_jl[J,K]*model_rob.y_k[K]\n",
    "\n",
    "def rule_4(model_rob,J,L):\n",
    "    return model_rob.v_jl[J,L] <= f_jk_f_jl[J,L]*model_rob.z_l[L]\n",
    "   \n",
    "def rule_5(model_rob,K,L):\n",
    "    return model_rob.x_kl[K,L] <= g_kl[K,L]*q*model_rob.z_l[L]\n",
    "\n",
    "def rule_6(model_rob,K):\n",
    "    return sum(q_j[j]*model_rob.w_jk[j,K] for j in J)<=s_k*model_rob.y_k[K]\n",
    "\n",
    "def rule_7(model_rob):\n",
    "    return sum(model_rob.z_l[l] for l in L)==1\n",
    "\n",
    "def rule_8(model_rob, J1, K1):\n",
    "    return model_rob.w_jk[J1,K1] == w_jk0[J1, K1]\n",
    "\n",
    "def rule_9(model_rob): #experiment, incinerator not in Agueda\n",
    "    return (model.z_l[\"Agueda\"] == 0)\n",
    "\n",
    "def rule_10(model_rob): #experiment, incinerator not in Mealheada\n",
    "    return (model_rob.z_l[\"Mealhada\"] == 0)\n",
    "\n",
    "def rule_11(model_rob): #experiment, incinerator not in Anadia\n",
    "    return (model_rob.z_l[\"Anadia\"] == 0)\n",
    "\n",
    "def rule_12(model_rob, J1, K1):\n",
    "    return model_rob.y_k[K1] >= w_jk0[J1, K1]\n",
    "\n",
    "def rule_13(model_rob):\n",
    "    return sum(model_rob.y_k[k] for k in K) <= 9\n",
    "\n",
    "def rule_14(model_rob, J):\n",
    "    return sum(model_rob.w_jk[J, k] for k in K) <= 9\n",
    "\n",
    "model_rob.C_1 = Constraint( J, rule=rule_1 )\n",
    "model_rob.C_2 = Constraint( K, rule=rule_2 )\n",
    "model_rob.C_3 = Constraint( J, K, rule=rule_3 )\n",
    "model_rob.C_4 = Constraint( J, L, rule=rule_4 )\n",
    "model_rob.C_5 = Constraint( K, L, rule = rule_5)\n",
    "model_rob.C_6 = Constraint( K, rule = rule_6 )\n",
    "model_rob.C_7 = Constraint( rule = rule_7)\n",
    "model_rob.C_8 = Constraint(J1, K1, rule = rule_8) \n",
    "#model_rob.C_9 = Constraint( rule = rule_9) # experiment, incinerator not in Agueda\n",
    "#model_rob.C_10 = Constraint( rule = rule_10) # experiment, incinerator not in Mealhada\n",
    "#model_rob.C_11 = Constraint( rule = rule_11) # experiment, incinerator not in Anadia\n",
    "#model_rob.c_12 = Constraint( J1, K1, rule = rule_12) # allow the municipalities to go to other ts\n",
    "model_rob.c_13 = Constraint( rule = rule_13) # limit number of transfer stations without using the m term\n",
    "#model_rob.c_14 = Constraint( J, rule = rule_14) # limit number of municipalities assigned to a ts\n",
    "\n",
    "# Call Mosel and solve\n",
    "#results = SolverFactory('amplxpress').solve(model_rob)\n",
    "\n",
    "# Call the NEOS server and use MOSEK for solving\n",
    "\n",
    "# email address\n",
    "os.environ['NEOS_EMAIL'] = 's2123659@ed.ac.uk'\n",
    "\n",
    "solver_manager = SolverManagerFactory('neos')\n",
    "results_rob = solver_manager.solve(model_rob, opt=\"cplex\")\n",
    "\n",
    "results_rob.write()\n"
   ]
  },
  {
   "cell_type": "code",
   "execution_count": 129,
   "metadata": {},
   "outputs": [
    {
     "output_type": "stream",
     "name": "stdout",
     "text": [
      "\nTransfer stations\n=================\nEstarreja 1.0\nIlhavo 1.0\nOliveira de Azemeis 1.0\nSever do Vouga 1.0\nCoimbra 1.0\nGois 1.0\nMontemor-o-Velho 1.0\nPampilhosa da Serra 1.0\nAnsiao 1.0\nIncinerator is in:  Mealhada 1.0\nOptimal value = €1054622.05\nTransportation costs = €-7945377.95\n"
     ]
    }
   ],
   "source": [
    "# Output detailed solution\n",
    "header = \"Transfer stations\"\n",
    "print(f\"\\n{header}\")\n",
    "print(f\"=\"*len(header))\n",
    "\n",
    "for k in K:\n",
    "    if(model_rob.y_k[k]() == 1):\n",
    "        print(k, model_rob.y_k[k]())\n",
    "\n",
    "for l in L:\n",
    "    if(model_rob.z_l[l]() == 1):\n",
    "        print(\"Incinerator is in: \", l, model_rob.z_l[l]())\n",
    "        \n",
    "if 'ok' == str(results_rob.Solver.status):\n",
    "    t_cost = model_rob.Cost() - m*sum(model_rob.y_k[k]() for k in K)\n",
    "    print(f\"Optimal value = €{model_rob.Cost():.2f}\")\n",
    "    print(f\"Transportation costs = €{t_cost:.2f}\")\n",
    "else:\n",
    "    print(\"No Valid Solution Found\")"
   ]
  },
  {
   "cell_type": "code",
   "execution_count": 124,
   "metadata": {},
   "outputs": [
    {
     "output_type": "stream",
     "name": "stdout",
     "text": [
      "0.0\n0.0\n0.0\n0.0\n0.0\n0.0\n0.0\n0.0\n0.0\n0.0\n0.0\n0.0\n0.0\n-9.922035666235132e-16\n0.0\n0.0\n0.0\n0.0\n0.0\n0.0\n0.0\n0.0\n0.0\n0.0\n0.0\n0.0\n0.0\n0.0\n0.0\n0.0\n0.0\n0.0\n0.0\n0.0\n0.0\n0.0\n0.0\n0.0\n0.0\n0.0\n0.0\n0.0\n0.0\n0.0\n0.0\n0.0\n0.0\n0.0\n0.0\n1.0\n0.0\n0.0\n0.0\n0.0\n0.0\n0.0\n0.0\n0.0\n0.0\n0.0\n0.0\n0.0\n0.0\n0.0\n0.0\n0.0\n0.0\n0.0\n0.0\n0.0\n0.0\n0.0\n0.0\n0.0\n9.649307715003294e-16\n0.0\n0.0\n0.0\n0.0\n0.0\n0.0\n0.0\n0.0\n0.0\n0.0\n0.0\n0.0\n0.0\n0.0\n0.0\n0.0\n0.0\n0.0\n0.0\n0.0\n0.0\n0.0\n0.0\n0.0\n0.0\n0.0\n0.0\n0.0\n0.0\n0.0\n0.0\n0.0\n0.0\n0.0\n0.0\n0.0\n0.0\n0.0\n0.0\n0.0\n0.0\n0.0\n1.0\n0.0\n0.0\n0.0\n0.0\n0.0\n0.0\n0.0\n0.0\n0.0\n0.0\n0.0\n0.0\n0.0\n0.0\n0.0\n0.0\n0.0\n0.0\n0.0\n0.0\n0.0\n0.0\n0.0\n0.0\n0.0\n0.0\n0.0\n0.0\n0.0\n0.0\n0.0\n0.0\n1.0\n0.0\n0.0\n0.0\n0.0\n0.0\n0.0\n0.0\n0.0\n0.0\n0.0\n0.0\n0.0\n0.0\n0.0\n0.0\n0.0\n0.0\n0.0\n0.0\n0.0\n0.0\n0.0\n0.0\n0.0\n0.0\n0.0\n0.0\n0.0\n0.0\n0.0\n0.0\n0.0\n0.0\n0.0\n1.0\n0.0\n0.0\n0.0\n0.0\n0.0\n0.0\n0.0\n0.0\n0.0\n0.0\n0.0\n0.0\n0.0\n0.0\n0.0\n0.0\n0.0\n0.0\n0.0\n0.0\n0.0\n0.0\n0.0\n0.0\n0.0\n0.0\n0.0\n0.0\n0.0\n0.0\n0.0\n0.0\n0.0\n0.0\n0.0\n0.0\n1.0\n0.0\n0.0\n0.0\n0.0\n0.0\n0.0\n0.0\n0.0\n0.0\n0.0\n0.0\n0.0\n0.0\n0.0\n0.0\n0.0\n0.0\n0.0\n0.0\n0.0\n0.0\n0.0\n0.0\n0.0\n0.0\n0.0\n0.0\n0.0\n0.0\n0.0\n0.0\n0.0\n0.0\n0.0\n0.0\n0.0\n0.0\n0.0\n0.0\n0.0\n0.0\n0.0\n0.0\n0.0\n0.0\n0.0\n0.0\n0.0\n0.0\n0.0\n0.0\n0.0\n0.0\n0.0\n0.0\n0.0\n0.0\n0.0\n0.0\n0.0\n0.0\n0.0\n0.0\n0.0\n0.0\n0.0\n0.0\n0.0\n0.0\n0.0\n1.0\n0.0\n0.0\n0.0\n0.0\n0.0\n0.0\n0.0\n0.0\n0.0\n0.0\n0.0\n0.0\n0.0\n0.0\n0.0\n0.0\n0.0\n0.0\n0.0\n0.0\n0.0\n0.0\n0.0\n0.0\n0.0\n0.0\n0.0\n0.0\n0.0\n0.0\n0.0\n0.0\n0.0\n0.0\n0.0\n0.0\n0.0\n0.0\n0.0\n1.0\n0.0\n0.0\n0.0\n0.0\n0.0\n0.0\n0.0\n0.0\n0.0\n0.0\n0.0\n0.0\n0.0\n0.0\n0.0\n0.0\n0.0\n0.0\n0.0\n0.0\n0.0\n0.0\n0.0\n0.0\n0.0\n0.0\n0.0\n0.0\n0.0\n0.0\n0.0\n0.0\n-6.944038570977532e-16\n0.0\n0.0\n0.0\n0.0\n0.0\n0.0\n0.0\n0.0\n0.0\n0.0\n0.0\n0.0\n0.0\n0.0\n0.0\n0.0\n0.0\n0.0\n0.0\n0.0\n0.0\n0.0\n0.0\n0.0\n0.0\n0.0\n0.0\n0.0\n0.0\n0.0\n0.0\n0.0\n0.0\n0.0\n1.0\n0.0\n0.0\n0.0\n0.0\n0.0\n0.0\n0.0\n0.0\n0.0\n0.0\n0.0\n0.0\n0.0\n0.0\n0.0\n0.0\n0.0\n0.0\n0.0\n0.0\n0.0\n0.0\n0.0\n0.0\n0.0\n0.0\n0.0\n0.0\n0.0\n0.0\n0.0\n0.0\n0.0\n0.0\n0.0\n0.0\n0.0\n0.0\n0.0\n1.0\n0.0\n0.0\n0.0\n0.0\n0.0\n0.0\n0.0\n0.0\n0.0\n0.0\n0.0\n0.0\n0.0\n0.0\n0.0\n0.0\n0.0\n0.0\n0.0\n0.0\n0.0\n0.0\n0.0\n0.0\n0.0\n0.0\n0.0\n0.0\n0.0\n0.0\n0.0\n0.0\n0.0\n0.0\n0.0\n0.0\n0.0\n0.0\n0.0\n1.0\n0.0\n0.0\n0.0\n0.0\n0.0\n0.0\n0.0\n0.0\n0.0\n0.0\n0.0\n0.0\n0.0\n0.0\n0.0\n0.0\n0.0\n0.0\n0.0\n0.0\n0.0\n0.0\n0.0\n0.0\n0.0\n0.0\n0.0\n0.0\n1.0\n0.0\n0.0\n0.0\n0.0\n0.0\n0.0\n0.0\n0.0\n0.0\n0.0\n0.0\n0.0\n0.0\n0.0\n0.0\n0.0\n0.0\n0.0\n0.0\n0.0\n0.0\n0.0\n0.0\n0.0\n0.0\n0.0\n0.0\n0.0\n0.0\n0.0\n0.0\n0.0\n0.0\n0.0\n0.0\n0.0\n0.0\n0.0\n1.0\n0.0\n0.0\n0.0\n0.0\n0.0\n0.0\n0.0\n0.0\n0.0\n0.0\n0.0\n0.0\n0.0\n0.0\n0.0\n0.0\n0.0\n0.0\n0.0\n0.0\n0.0\n0.0\n0.0\n0.0\n0.0\n0.0\n0.0\n0.0\n0.0\n0.0\n0.0\n0.0\n0.0\n0.0\n0.0\n0.0\n0.0\n0.0\n0.0\n0.0\n0.0\n0.0\n0.0\n0.0\n0.0\n0.0\n0.0\n1.0\n0.0\n0.0\n0.0\n0.0\n0.0\n0.0\n0.0\n0.0\n0.0\n0.0\n0.0\n0.0\n0.0\n0.0\n0.0\n0.0\n0.0\n0.0\n0.0\n0.0\n0.0\n0.0\n0.0\n0.0\n0.0\n0.0\n0.0\n0.0\n0.0\n0.0\n0.0\n0.0\n0.0\n0.0\n0.0\n0.0\n0.0\n0.0\n0.0\n-7.081390383093163e-16\n0.0\n0.0\n0.0\n0.0\n0.0\n0.0\n0.0\n0.0\n0.0\n0.0\n0.0\n0.0\n0.0\n0.0\n0.0\n0.0\n0.0\n0.0\n0.0\n0.0\n0.0\n0.0\n0.0\n0.0\n0.0\n0.0\n0.0\n0.0\n1.0\n0.0\n0.0\n0.0\n0.0\n0.0\n0.0\n0.0\n0.0\n0.0\n0.0\n0.0\n0.0\n0.0\n0.0\n0.0\n0.0\n0.0\n0.0\n0.0\n0.0\n0.0\n0.0\n0.0\n0.0\n0.0\n0.0\n0.0\n0.0\n0.0\n0.0\n0.0\n0.0\n0.0\n0.0\n0.0\n1.0\n0.0\n0.0\n0.0\n0.0\n0.0\n0.0\n0.0\n0.0\n0.0\n0.0\n0.0\n0.0\n0.0\n0.0\n0.0\n0.0\n0.0\n0.0\n0.0\n0.0\n0.0\n0.0\n0.0\n0.0\n0.0\n0.0\n0.0\n0.0\n0.0\n0.0\n0.0\n0.0\n0.0\n0.0\n0.0\n0.0\n0.0\n4.0691180232036233e-16\n0.0\n0.0\n0.0\n0.0\n0.9999999999999992\n0.0\n0.0\n0.0\n0.0\n0.0\n0.0\n0.0\n0.0\n0.0\n0.0\n0.0\n0.0\n0.0\n0.0\n0.0\n0.0\n0.0\n0.0\n0.0\n0.0\n0.0\n0.0\n0.0\n0.0\n0.0\n0.0\n0.0\n0.0\n0.0\n0.0\n0.0\n1.0\n0.0\n0.0\n0.0\n0.0\n0.0\n0.0\n0.0\n0.0\n0.0\n0.0\n0.0\n0.0\n0.0\n0.0\n0.0\n0.0\n0.0\n0.0\n0.0\n0.0\n0.0\n0.0\n0.0\n0.0\n0.0\n0.0\n0.0\n0.0\n0.0\n0.0\n0.0\n0.0\n0.0\n0.0\n0.0\n1.0\n0.0\n0.0\n0.0\n0.0\n0.0\n0.0\n0.0\n0.0\n0.0\n0.0\n0.0\n0.0\n0.0\n0.0\n0.0\n0.0\n0.0\n0.0\n0.0\n0.0\n1.0\n0.0\n0.0\n0.0\n0.0\n0.0\n0.0\n0.0\n0.0\n0.0\n0.0\n0.0\n0.0\n0.0\n0.0\n0.0\n0.0\n0.0\n0.0\n0.0\n0.0\n0.0\n0.0\n0.0\n0.0\n0.0\n0.0\n0.0\n0.0\n0.0\n0.0\n0.0\n0.0\n0.0\n0.0\n0.0\n0.0\n0.0\n0.0\n0.0\n0.0\n0.0\n0.0\n0.0\n0.0\n0.0\n0.0\n0.0\n1.0\n0.0\n0.0\n0.0\n0.0\n0.0\n0.0\n0.0\n0.0\n0.0\n0.0\n0.0\n0.0\n0.0\n0.0\n0.0\n0.0\n0.0\n0.0\n0.0\n0.0\n0.0\n0.0\n0.0\n0.0\n0.0\n0.0\n0.0\n0.0\n0.0\n0.0\n0.0\n0.0\n0.0\n0.0\n0.0\n0.0\n0.0\n0.0\n0.0\n0.0\n0.0\n0.0\n0.9999999999999983\n0.0\n0.0\n0.0\n0.0\n0.0\n0.0\n0.0\n0.0\n0.0\n0.0\n0.0\n0.0\n0.0\n0.0\n0.0\n0.0\n0.0\n0.0\n0.0\n0.0\n0.0\n0.0\n0.0\n0.0\n0.0\n0.0\n0.0\n0.0\n0.0\n0.0\n0.0\n0.0\n0.0\n0.0\n0.0\n0.0\n1.0\n0.0\n0.0\n0.0\n0.0\n0.0\n0.0\n0.0\n0.0\n0.0\n0.0\n0.0\n0.0\n0.0\n0.0\n0.0\n0.0\n0.0\n0.0\n0.0\n0.0\n0.0\n0.0\n0.0\n0.0\n0.0\n0.0\n0.0\n1.0\n0.0\n0.0\n0.0\n0.0\n0.0\n0.0\n0.0\n0.0\n0.0\n0.0\n0.0\n0.0\n0.0\n0.0\n0.0\n0.0\n0.0\n0.0\n0.0\n0.0\n0.0\n0.0\n0.0\n0.0\n0.0\n0.0\n0.0\n0.0\n0.0\n0.0\n0.0\n0.0\n0.0\n0.0\n0.0\n0.0\n0.0\n0.0\n0.0\n0.0\n0.0\n0.0\n0.0\n0.0\n0.0\n0.0\n0.0\n0.0\n0.0\n1.0\n0.0\n0.0\n0.0\n0.0\n0.0\n0.0\n0.0\n0.0\n0.0\n0.0\n0.0\n0.0\n0.0\n0.0\n0.0\n0.0\n0.0\n0.0\n0.0\n0.0\n0.0\n0.0\n0.0\n0.0\n0.0\n0.0\n0.0\n0.0\n0.9999999999999992\n0.0\n0.0\n0.0\n0.0\n0.0\n0.0\n0.0\n0.0\n0.0\n0.0\n0.0\n0.0\n0.0\n0.0\n0.0\n0.0\n0.0\n0.0\n0.0\n0.0\n0.0\n0.0\n0.0\n0.0\n0.0\n0.0\n0.0\n0.0\n0.0\n0.0\n0.0\n1.0\n0.0\n0.0\n0.0\n0.0\n0.0\n0.0\n0.0\n0.0\n0.0\n0.0\n0.0\n0.0\n0.0\n0.0\n0.0\n0.0\n0.0\n0.0\n0.0\n0.0\n0.0\n0.0\n0.0\n0.0\n0.0\n0.0\n0.0\n0.0\n0.0\n0.0\n0.0\n0.0\n0.0\n0.0\n0.0\n0.0\n0.0\n0.0\n0.0\n0.0\n0.0\n0.0\n0.0\n0.0\n0.0\n-1.3047272356758547e-15\n1.0\n0.0\n0.0\n0.0\n0.0\n0.0\n0.0\n0.0\n0.0\n0.0\n0.0\n0.0\n0.0\n0.0\n0.0\n0.0\n0.0\n0.0\n0.0\n0.0\n0.0\n0.0\n0.0\n0.0\n0.0\n0.0\n0.0\n0.0\n0.0\n0.0\n0.0\n0.0\n0.0\n0.0\n0.0\n0.0\n1.0\n0.0\n0.0\n0.0\n0.0\n0.0\n0.0\n0.0\n0.0\n0.0\n0.0\n0.0\n0.0\n0.0\n0.0\n0.0\n0.0\n0.0\n0.0\n0.0\n0.0\n0.0\n0.0\n0.0\n0.0\n0.0\n0.0\n0.0\n0.0\n0.0\n0.0\n0.0\n0.0\n0.0\n0.0\n0.0\n1.0\n0.0\n0.0\n0.0\n0.0\n0.0\n0.0\n0.0\n0.0\n0.0\n0.0\n0.0\n0.0\n0.0\n0.0\n0.0\n0.0\n0.0\n0.0\n0.0\n0.0\n0.0\n0.0\n0.0\n0.0\n0.0\n0.0\n0.0\n0.0\n0.0\n0.0\n0.0\n0.0\n0.0\n0.0\n0.0\n1.0\n0.0\n0.0\n0.0\n0.0\n0.0\n0.0\n0.0\n0.0\n0.0\n0.0\n0.0\n0.0\n0.0\n0.0\n0.0\n0.0\n0.0\n0.0\n0.0\n0.0\n0.0\n0.0\n0.0\n0.0\n0.0\n0.0\n0.0\n0.0\n0.0\n0.0\n0.0\n0.0\n0.0\n0.0\n0.0\n1.0\n0.0\n0.0\n0.0\n['Agueda', 'Albergaria-a-Velha', 'Anadia', 'Arouca', 'Aveiro', 'Estarreja', 'Ilhavo', 'Mealhada', 'Murtosa', 'Oliveira de Azemeis', 'Oliveira do Bairro', 'Ovar', 'Sao Joao da Madeira', 'Sever do Vouga', 'Vagos', 'Vale de Cambra', 'Arganil', 'Cantanhede', 'Coimbra', 'Condeixa-a-Nova', 'Figueira da Foz', 'Gois', 'Lousa', 'Mira', 'Miranda do Corvo', 'Montemor-o-Velho', 'Pampilhosa da Serra', 'Penacova', 'Penela', 'Soure', 'Vila Nova Poiares', 'Alvaiazere', 'Ansiao', 'Castanheira de Pera', 'Figueiro dos Vinhos', 'Pedrogao Grande']\n"
     ]
    }
   ],
   "source": [
    "for j in J:\n",
    "    for k in K:\n",
    "        print(model_rob.w_jk[j, k]())\n",
    "print(mun_list)"
   ]
  },
  {
   "source": [
    "## Map"
   ],
   "cell_type": "markdown",
   "metadata": {}
  },
  {
   "cell_type": "code",
   "execution_count": 130,
   "metadata": {},
   "outputs": [],
   "source": [
    "# Fill lists with the optimization results \n",
    "\n",
    "# Transfer stations\n",
    "y = []\n",
    "\n",
    "for k in K:\n",
    "    if(model_rob.y_k[k]() == 1):\n",
    "        y.append(k)\n",
    "\n",
    "#Incinerator\n",
    "z = []\n",
    "\n",
    "for l in L:\n",
    "    if(model_rob.z_l[l]() == 1):\n",
    "        z.append(l)\n",
    "\n",
    "# Link between municipalities and transfer stations\n",
    "links_ts = []\n",
    "\n",
    "for k in K:\n",
    "    for j in J:\n",
    "        if(model_rob.w_jk[j, k]() == 1):\n",
    "            links_ts.append((k, j))\n",
    "\n",
    "# Link between municipalities and the incinerator\n",
    "links_inc = []\n",
    "\n",
    "for l in L:\n",
    "    for j in J:\n",
    "        if(model_rob.v_jl[j, l]() == 1):\n",
    "            links_inc.append((l, j))\n",
    "\n",
    "# Get the coordinates\n",
    "ts_new, ts_exist, inc, mun, w_jk, v_jl = get_coord(y, z, links_ts, links_inc, K1)"
   ]
  },
  {
   "cell_type": "code",
   "execution_count": 131,
   "metadata": {},
   "outputs": [
    {
     "output_type": "stream",
     "name": "stdout",
     "text": [
      "                     ts     lat_ts   long_ts                  mun    lat_mun  \\\n30               Ansiao  39.916667 -8.433333      Pedrogao Grande  39.916667   \n28               Ansiao  39.916667 -8.433333  Castanheira de Pera  40.000000   \n27               Ansiao  39.916667 -8.433333               Ansiao  39.916667   \n26               Ansiao  39.916667 -8.433333           Alvaiazere  39.833333   \n25               Ansiao  39.916667 -8.433333               Penela  40.033333   \n29               Ansiao  39.916667 -8.433333  Figueiro dos Vinhos  39.900000   \n16              Coimbra  40.250000 -8.450000             Penacova  40.266667   \n14              Coimbra  40.250000 -8.450000      Condeixa-a-Nova  40.116667   \n13              Coimbra  40.250000 -8.450000              Coimbra  40.250000   \n15              Coimbra  40.250000 -8.450000     Miranda do Corvo  40.100000   \n0             Estarreja  40.750000 -8.566667            Estarreja  40.750000   \n1             Estarreja  40.750000 -8.566667              Murtosa  40.736944   \n2             Estarreja  40.750000 -8.566667                 Ovar  40.866667   \n19                 Gois  40.150000 -8.116667                Lousa  40.112528   \n18                 Gois  40.150000 -8.116667                 Gois  40.150000   \n17                 Gois  40.150000 -8.116667              Arganil  40.216667   \n20                 Gois  40.150000 -8.116667    Vila Nova Poiares  40.216667   \n6                Ilhavo  40.600000 -8.666667                 Mira  40.428472   \n4                Ilhavo  40.600000 -8.666667               Ilhavo  40.600000   \n3                Ilhavo  40.600000 -8.666667               Aveiro  40.616667   \n5                Ilhavo  40.600000 -8.666667                Vagos  40.550000   \n21     Montemor-o-Velho  40.166667 -8.683333      Figueira da Foz  40.150850   \n22     Montemor-o-Velho  40.166667 -8.683333     Montemor-o-Velho  40.166667   \n23     Montemor-o-Velho  40.166667 -8.683333                Soure  40.050000   \n7   Oliveira de Azemeis  40.833333 -8.483333               Arouca  40.933333   \n8   Oliveira de Azemeis  40.833333 -8.483333  Oliveira de Azemeis  40.833333   \n9   Oliveira de Azemeis  40.833333 -8.483333  Sao Joao da Madeira  40.900000   \n10  Oliveira de Azemeis  40.833333 -8.483333       Vale de Cambra  40.850000   \n24  Pampilhosa da Serra  40.050000 -7.950000  Pampilhosa da Serra  40.050000   \n12       Sever do Vouga  40.733333 -8.366667       Sever do Vouga  40.733333   \n11       Sever do Vouga  40.733333 -8.366667   Albergaria-a-Velha  40.693611   \n\n    long_mun  \n30 -8.150000  \n28 -8.216667  \n27 -8.433333  \n26 -8.383333  \n25 -8.383333  \n29 -8.266667  \n16 -8.266667  \n14 -8.500000  \n13 -8.450000  \n15 -8.333333  \n0  -8.566667  \n1  -8.638611  \n2  -8.633333  \n19 -8.246889  \n18 -8.116667  \n17 -8.050000  \n20 -8.250000  \n6  -8.736250  \n4  -8.666667  \n3  -8.633333  \n5  -8.666667  \n21 -8.861790  \n22 -8.683333  \n23 -8.633333  \n7  -8.250000  \n8  -8.483333  \n9  -8.500000  \n10 -8.400000  \n24 -7.950000  \n12 -8.366667  \n11 -8.480556  \n"
     ]
    }
   ],
   "source": [
    "print(w_jk)"
   ]
  },
  {
   "cell_type": "code",
   "execution_count": 132,
   "metadata": {},
   "outputs": [
    {
     "output_type": "stream",
     "name": "stdout",
     "text": [
      "        inc    lat_inc  long_inc                 mun    lat_mun  long_mun\n0  Mealhada  40.383333     -8.45              Agueda  40.574444 -8.448056\n1  Mealhada  40.383333     -8.45              Anadia  40.433333 -8.433333\n2  Mealhada  40.383333     -8.45            Mealhada  40.383333 -8.450000\n3  Mealhada  40.383333     -8.45  Oliveira do Bairro  40.516667 -8.500000\n4  Mealhada  40.383333     -8.45          Cantanhede  40.346240 -8.594070\n"
     ]
    }
   ],
   "source": [
    "print(v_jl)"
   ]
  },
  {
   "source": [
    "### Display the map\n"
   ],
   "cell_type": "markdown",
   "metadata": {}
  },
  {
   "cell_type": "code",
   "execution_count": 133,
   "metadata": {},
   "outputs": [
    {
     "output_type": "execute_result",
     "data": {
      "text/plain": [
       "<folium.folium.Map at 0x1877ef9a3d0>"
      ],
      "text/html": "<div style=\"width:100%;\"><div style=\"position:relative;width:100%;height:0;padding-bottom:60%;\"><span style=\"color:#565656\">Make this Notebook Trusted to load map: File -> Trust Notebook</span><iframe src=\"about:blank\" style=\"position:absolute;width:100%;height:100%;left:0;top:0;border:none !important;\" data-html=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 onload=\"this.contentDocument.open();this.contentDocument.write(atob(this.getAttribute('data-html')));this.contentDocument.close();\" allowfullscreen webkitallowfullscreen mozallowfullscreen></iframe></div></div>"
     },
     "metadata": {},
     "execution_count": 133
    }
   ],
   "source": [
    "# Create a map of the Centro region of Portugal\n",
    "centroLat = 40.784142221076074\n",
    "centroLong = -8.12884084353569\n",
    "\n",
    "# Instantiate feature groups for the transfer stations, the incinerator and the municipalities\n",
    "ts_group = folium.map.FeatureGroup(name = \"New transfer stations\")\n",
    "ts_e_group = folium.map.FeatureGroup(name = \"Existing transfer stations\")\n",
    "inc_group = folium.map.FeatureGroup(name = \"Incinerator\")\n",
    "mun_group = folium.map.FeatureGroup(name = \"Municipalities\")\n",
    "\n",
    "# Add each ts, municipalities and the incinerator to the feature groups\n",
    "for lat, lng, in zip(ts_new.lat, ts_new.long):\n",
    "    ts_group.add_child(\n",
    "        folium.CircleMarker([lat, lng], radius=5, color='green', fill=True, fill_color='green', fill_opacity=0.7))\n",
    "for lat, lng, in zip(ts_exist.lat, ts_exist.long):\n",
    "    ts_e_group.add_child(\n",
    "        folium.CircleMarker([lat, lng], radius=5, color='blue', fill=True, fill_color='blue', fill_opacity=0.7))\n",
    "for lat, lng, in zip(mun.lat, mun.long):\n",
    "    mun_group.add_child(\n",
    "        folium.CircleMarker([lat, lng], radius=2, color='black', fill=True, fill_color='black', fill_opacity=0.7))\n",
    "for lat, lng, in zip(inc.lat, inc.long):\n",
    "    inc_group.add_child(\n",
    "        folium.CircleMarker([lat, lng], radius=6, color='red', fill=True, fill_color='red', fill_opacity=0.7))\n",
    "\n",
    "# Add the feature groups to the map\n",
    "centroMap = folium.Map(location=[centroLat, centroLong], zoom_start=8)\n",
    "centroMap.add_child(ts_group)\n",
    "centroMap.add_child(ts_e_group)\n",
    "centroMap.add_child(mun_group)\n",
    "centroMap.add_child(inc_group)\n",
    "\n",
    "# Add a layer control to the map and other tile layer options\n",
    "folium.TileLayer('cartodbpositron').add_to(centroMap)\n",
    "folium.TileLayer('stamentoner').add_to(centroMap)\n",
    "folium.map.LayerControl('topright', collapsed=False).add_to(centroMap)\n",
    "\n",
    "# Add the graph lines for the links\n",
    "w_jk_link = list(zip(zip(w_jk.lat_ts, w_jk.long_ts), zip(w_jk.lat_mun, w_jk.long_mun)))\n",
    "v_jl_link = list(zip(zip(v_jl.lat_inc, v_jl.long_inc), zip(v_jl.lat_mun, v_jl.long_mun)))\n",
    "\n",
    "folium.PolyLine(w_jk_link, color=\"darkred\", weight=1.5, opacity=1).add_to(centroMap)\n",
    "folium.PolyLine(v_jl_link, color=\"darkred\", weight=1.5, opacity=1).add_to(centroMap)\n",
    "\n",
    "# Display the map\n",
    "centroMap"
   ]
  },
  {
   "cell_type": "code",
   "execution_count": null,
   "metadata": {},
   "outputs": [],
   "source": []
  }
 ],
 "metadata": {
  "deepnote": {},
  "deepnote_execution_queue": [],
  "deepnote_notebook_id": "2f82e0eb-13b2-4937-8c61-4d17582dd74b",
  "kernelspec": {
   "display_name": "Python 3",
   "language": "python",
   "name": "python3"
  },
  "language_info": {
   "codemirror_mode": {
    "name": "ipython",
    "version": 3
   },
   "file_extension": ".py",
   "mimetype": "text/x-python",
   "name": "python",
   "nbconvert_exporter": "python",
   "pygments_lexer": "ipython3",
   "version": "3.8.3-final"
  }
 },
 "nbformat": 4,
 "nbformat_minor": 4
}